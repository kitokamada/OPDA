{
 "cells": [
  {
   "cell_type": "markdown",
   "metadata": {},
   "source": [
    "## NC Files Data Extraction "
   ]
  },
  {
   "cell_type": "code",
   "execution_count": 39,
   "metadata": {},
   "outputs": [],
   "source": [
    "#filename='PACE_OCI.20240401T123447.L2.OC_AOP.V2_0.NRT.nc'\n",
    "nc_file = nc.Dataset(filename, 'r')  # 'r' stands for read-only mode\n",
    "\n",
    "# Access a specific group within the file\n",
    "group_name = 'geophysical_data'\n",
    "group = nc_file[group_name]\n",
    "\n",
    "## Access variables within the group\n",
    "Rrs_data = group.variables['Rrs'][:]  # Rrs data in geophysical_data group 184bands\n",
    "Rrs_unc_data = group.variables['Rrs'][:]  # Rrs_unc data in geophysical_data group 184bands\n",
    "angstrom_data = group.variables['angstrom'][:] ## Angstrom data \n",
    "aot865_data=group.variables['aot_865'][:] ## Aot_865 data\n",
    "l2_flag_data=group.variables['l2_flags'][:] ## l2 flag\n",
    "\n",
    "\n",
    "\n",
    "# Access a specific group within the file\n",
    "group_name2 = 'sensor_band_parameters'\n",
    "group2 = nc_file[group_name2]\n",
    "## Access variables within the group\n",
    "Wavelength_3d_data = group2.variables['wavelength_3d'][:]  # Wavelength_3d in sensor_band_parameters\n",
    "Wavelength_1d_data = group2.variables['wavelength'][:]  # Wavelength_3d in sensor_band_parameters\n",
    "F0_data = group2.variables['F0'][:]   # F0 in sensor_band_parameters\n",
    "Tau_r_data = group2.variables['Tau_r'][:]   # Tau_r in sensor_band_parameters\n",
    "Koz_data= group2.variables['k_oz'][:]   # K_oz in sensor_band_parameters\n",
    "\n",
    "\n",
    "\n",
    "# Access a specific group within the file\n",
    "group_name3 = 'navigation_data'\n",
    "group3 = nc_file[group_name3]\n",
    "LO_data=group3.variables['longitude'][:] ## LO in navigation_data\n",
    "LA_data=group3.variables['latitude'][:] ## LA in navigation data\n",
    "\n",
    "# Access a specific group within the file\n",
    "group_name4 = 'scan_line_attributes'\n",
    "group4 = nc_file[group_name4]\n",
    "csol_z_data=group4.variables['csol_z'][:] ## LO in navigation_data\n",
    "\n",
    "# close .nc\n",
    "nc_file.close()"
   ]
  },
  {
   "cell_type": "code",
   "execution_count": 11,
   "metadata": {},
   "outputs": [],
   "source": [
    "## Numpy array conversion\n",
    "Rrs_data=np.array(Rrs_data)\n",
    "Rrs_unc_data=np.array(Rrs_unc_data)\n",
    "angstrom_data=np.array(angstrom_data)\n",
    "aot865_data=np.array(aot865_data)\n",
    "l2_flag_data=np.array(l2_flag_data)\n",
    "Wavelength_3d_data=np.array(Wavelength_3d_data)\n",
    "F0_data=np.array(F0_data)\n",
    "LO_data=np.array(LO_data)\n",
    "LA_data=np.array(LA_data)\n",
    "Tau_r_data=np.array(Tau_r_data)\n",
    "Koz_data=np.array(Koz_data)\n",
    "csol_z_data=np.array(csol_z_data)\n"
   ]
  },
  {
   "cell_type": "markdown",
   "metadata": {},
   "source": [
    "## Rrs Part"
   ]
  },
  {
   "cell_type": "code",
   "execution_count": 13,
   "metadata": {},
   "outputs": [
    {
     "data": {
      "text/plain": [
       "(1709, 1272)"
      ]
     },
     "execution_count": 13,
     "metadata": {},
     "output_type": "execute_result"
    }
   ],
   "source": [
    "lat=41;lon=1.36 ## Casablanca Coordinate\n",
    "\n",
    "L=np.abs((LA_data-lat))+np.abs((LO_data-lon))\n",
    "\n",
    "L.shape"
   ]
  },
  {
   "cell_type": "code",
   "execution_count": 14,
   "metadata": {},
   "outputs": [],
   "source": [
    "p1, q1 = np.unravel_index(np.argmin(L), L.shape) ## Indices Fiding \n",
    "\n",
    "\n",
    "l=4;                         # selecting subsampling size        \n",
    "CA=LA_data[p1-l:p1+l,q1-l:q1+l]  # subsampling latitude\n",
    "CO=LO_data[p1-l:p1+l,q1-l:q1+l]  # subsampling longitude\n",
    "\n",
    "\n",
    "a, b = CA.shape\n",
    "dist = np.zeros_like(CA)\n",
    "\n",
    "\n",
    "# Assuming CA, CO, lat, and lon are NumPy arrays or matrices\n",
    "# Also assuming haversine function is defined\n",
    "# Initialize dist as a matrix of zeros with the same size as CA\n",
    "CA_rad = np.radians(CA)\n",
    "CO_rad = np.radians(CO)\n",
    "lat_rad = radians(lat)\n",
    "lon_rad = radians(lon)\n",
    "\n",
    "\n",
    "for o in range(a):  # Loop over rows\n",
    "    for rr in range(b):  # Loop over columns\n",
    "        # Calculate Haversine distance between the pixel and the target location\n",
    "        distv = haversine_distances([[CA_rad[o, rr], CO_rad[o, rr]]], [[lat_rad, lon_rad]])[0, 0]\n",
    "        \n",
    "        # Store the distance in the corresponding position in the dist matrix\n",
    "        dist[o, rr] = distv   # To convert to KM (* 6371000/1000 )\n",
    "\n"
   ]
  },
  {
   "cell_type": "code",
   "execution_count": 15,
   "metadata": {},
   "outputs": [
    {
     "data": {
      "text/plain": [
       "(1133, 858)"
      ]
     },
     "execution_count": 15,
     "metadata": {},
     "output_type": "execute_result"
    }
   ],
   "source": [
    "p1,q1"
   ]
  },
  {
   "cell_type": "code",
   "execution_count": 16,
   "metadata": {},
   "outputs": [],
   "source": [
    "M = np.min(dist)\n",
    "\n",
    "# Find the indices of the minimum distance in the flattened dist matrix\n",
    "I_flat = np.argmin(dist)\n",
    "\n",
    "# Convert the flattened index to row and column indices\n",
    "I_row, I_col = np.unravel_index(I_flat, dist.shape)\n",
    "\n",
    "# Calculate the row and column numbers of the closest pixel\n",
    "r = p1 - l + I_row\n",
    "c = q1 - l + I_col"
   ]
  },
  {
   "cell_type": "code",
   "execution_count": 17,
   "metadata": {},
   "outputs": [
    {
     "data": {
      "text/plain": [
       "(1133, 858)"
      ]
     },
     "execution_count": 17,
     "metadata": {},
     "output_type": "execute_result"
    }
   ],
   "source": [
    "r,c"
   ]
  },
  {
   "cell_type": "code",
   "execution_count": 18,
   "metadata": {},
   "outputs": [
    {
     "name": "stdout",
     "output_type": "stream",
     "text": [
      "Pixel Distance: 0.5206072789323302\n"
     ]
    }
   ],
   "source": [
    "# Test the pixel distance from the ideal location \n",
    "LA=np.radians(LA_data)\n",
    "LO=np.radians(LO_data)\n",
    "pixel_distance = haversine_distances([[LA[r, c], LO[r, c]]], [[lat_rad, lon_rad]])[0, 0]\n",
    "pixel_distance_KM=pixel_distance * 6371000/1000 \n",
    "print('Pixel Distance:',pixel_distance_KM)\n"
   ]
  },
  {
   "cell_type": "code",
   "execution_count": 19,
   "metadata": {},
   "outputs": [],
   "source": [
    "## 1.2Km 1x1 grid\n",
    "Rrs_0=Rrs_data[r,c,:]\n",
    "L2_flag_0=l2_flag_data[r,c]\n",
    "aot865_0=aot865_data[r,c]\n",
    "angstrom_0=angstrom_data[r,c]\n"
   ]
  },
  {
   "cell_type": "code",
   "execution_count": 20,
   "metadata": {},
   "outputs": [],
   "source": [
    "# 3.6Km 3x3 grid\n",
    "## Question for Eder: why calculate the mean and std\n",
    "px=1\n",
    "Rrs_1=Rrs_data[r-px:r+px+1,c-px:c+px+1,:]\n",
    "L2_flag_1=l2_flag_data[r-px:r+px,c-px:c+px]\n",
    "aot865_1=aot865_data[r-px:r+px,c-px:c+px]\n",
    "#angstrom_1=angstrom_data[r-px,c+px]\n",
    "## Question for Eder"
   ]
  },
  {
   "cell_type": "code",
   "execution_count": 21,
   "metadata": {},
   "outputs": [],
   "source": [
    "# 6Km 5x5 grid\n",
    "## Question for Eder: why calculate the mean and std\n",
    "px=2\n",
    "Rrs_2=Rrs_data[r-px:r+px+1,c-px:c+px+1,:]\n",
    "L2_flag_2=l2_flag_data[r-px:r+px,c-px:c+px]\n",
    "aot865_2=aot865_data[r-px:r+px,c-px:c+px]\n",
    "#angstrom_2=angstrom_data[r-px,c+px]\n",
    "## Question for Eder"
   ]
  },
  {
   "cell_type": "code",
   "execution_count": 22,
   "metadata": {},
   "outputs": [],
   "source": [
    "# 8.4Km 7x7 grid\n",
    "## Question for Eder: why calculate the mean and std\n",
    "px=4\n",
    "Rrs_3=Rrs_data[r-px:r+px+1,c-px:c+px+1,:]\n",
    "L2_flag_3=l2_flag_data[r-px:r+px,c-px:c+px]\n",
    "aot865_3=aot865_data[r-px:r+px,c-px:c+px]\n",
    "#angstrom_3=angstrom_data[r-px,c+px]\n"
   ]
  },
  {
   "cell_type": "markdown",
   "metadata": {},
   "source": [
    "Replace Nan before plotting"
   ]
  },
  {
   "cell_type": "code",
   "execution_count": null,
   "metadata": {},
   "outputs": [
    {
     "name": "stderr",
     "output_type": "stream",
     "text": [
      "<ipython-input-23-e0d9fee91629>:4: RuntimeWarning: Mean of empty slice\n",
      "  mean_rrs = np.nanmean(Rrs_1, axis=(0, 1))\n"
     ]
    }
   ],
   "source": [
    "## If using Grid data, replace Nan first \n",
    "Rrs_1[Rrs_1 < 0 ] = np.nan\n",
    "\n",
    "mean_rrs = np.nanmean(Rrs_1, axis=(0, 1))"
   ]
  },
  {
   "cell_type": "markdown",
   "metadata": {},
   "source": [
    "Below are ARONET DATA extraction and Matching up with PACE mission Data "
   ]
  },
  {
   "cell_type": "code",
   "execution_count": 26,
   "metadata": {},
   "outputs": [],
   "source": [
    "## Locate Wavelength in .nc file variables\n",
    "\n",
    "target_lambda_headers = np.array([413, 442, 490, 510, 560, 620, 667, 681, 709])\n",
    "# Find indices of target headers\n",
    "indices_lambda = np.where(Wavelength_1d_data == np.array(target_lambda_headers)[:, None])[1]\n"
   ]
  },
  {
   "cell_type": "code",
   "execution_count": 27,
   "metadata": {},
   "outputs": [],
   "source": [
    "## Mean Solar Flux [W.m^-2 um^-1]\n",
    "F0_specificed=F0_data[indices_lambda]"
   ]
  },
  {
   "cell_type": "code",
   "execution_count": 28,
   "metadata": {},
   "outputs": [],
   "source": [
    "\n",
    "plot_indices=np.where(Wavelength_3d_data == np.array(target_lambda_headers)[:, None])[1]\n"
   ]
  },
  {
   "cell_type": "markdown",
   "metadata": {},
   "source": [
    "## Interp Values on 3d wavelength data range"
   ]
  },
  {
   "cell_type": "code",
   "execution_count": 29,
   "metadata": {},
   "outputs": [],
   "source": [
    "from scipy.interpolate import interp1d\n",
    "\n",
    "interp_func_1 = interp1d(Wavelength_1d_data, Tau_r_data, kind='linear', fill_value=\"extrapolate\")\n",
    "# Interpolate the values at the points in wavelength_3d data\n",
    "Tau_r_data_lambda3D_data = interp_func_1(Wavelength_3d_data)\n",
    "\n",
    "tauC = np.zeros_like(Tau_r_data_lambda3D_data)  \n",
    "\n",
    "for i in range(184):\n",
    "    if i < 62:\n",
    "        tauC[i] = Tau_r_data_lambda3D_data[i] - 0.045 * Tau_r_data_lambda3D_data[i] * (490 - Wavelength_3d_data[i]) / (490 - 339)\n",
    "    else:\n",
    "        tauC[i] = Wavelength_3d_data[i]\n",
    "\n",
    "# Transpose tauC to match MATLAB's behavior (if needed)\n",
    "tauR = tauC  "
   ]
  },
  {
   "cell_type": "code",
   "execution_count": 30,
   "metadata": {},
   "outputs": [],
   "source": [
    "interp_func_2 = interp1d(Wavelength_1d_data, Koz_data, kind='linear', fill_value=\"extrapolate\")\n",
    "# Interpolate the values at the points in wavelength_3d data\n",
    "Tau_oz_data_3d = interp_func_2(Wavelength_3d_data) * 0.3\n",
    "\n",
    "interp_func_3 = interp1d(Wavelength_1d_data, F0_data/10, kind='linear', fill_value=\"extrapolate\")\n",
    "# Interpolate the values at the points in wavelength_3d data\n",
    "F00_data = interp_func_3(Wavelength_3d_data) "
   ]
  },
  {
   "cell_type": "markdown",
   "metadata": {},
   "source": [
    "## csol & Solzo data interp"
   ]
  },
  {
   "cell_type": "code",
   "execution_count": 31,
   "metadata": {},
   "outputs": [],
   "source": [
    "## use r,c coordinate to performe interp\n",
    "csol_z_data.shape\n",
    "\n",
    "SolZ= csol_z_data[c]\n",
    "\n",
    "SenZ = np.degrees(np.arctan(np.abs(1272/2 - r) * 1.2 / 676.5))\n",
    "\n",
    "## r,c coordinate aot interp\n",
    "aot865_intrp = aot865_0 * (865.0 / Wavelength_3d_data) ** angstrom_0\n"
   ]
  },
  {
   "cell_type": "code",
   "execution_count": 32,
   "metadata": {},
   "outputs": [],
   "source": [
    "Lr = F00_data * tauR * 0.75 * (1 + (np.cos(np.radians(SolZ))**2) * (np.cos(np.radians(SenZ))**2)) / (4 * np.pi * np.cos(np.radians(SenZ)))\n",
    "\n",
    "# Compute Lr1\n",
    "Lr1 = F00_data * tauR * 0.75 * (1 + (np.cos(np.radians(SolZ))**2) * (np.cos(np.radians(SenZ))**2)) / (4 * np.pi * np.cos(np.radians(SenZ)))\n",
    "\n",
    "# Compute t0 (sun to surface)\n",
    "t0 = np.exp(-((tauR / 2 + Tau_oz_data_3d) / np.cos(np.radians(SolZ))))\n",
    "\n",
    "# Compute Ed\n",
    "Ed = F00_data * t0 * np.cos(np.radians(SolZ))\n",
    "\n",
    "# Compute La\n",
    "La = F00_data * aot865_intrp * 0.15 / (4 * np.pi * np.cos(np.radians(SenZ)))\n",
    "\n",
    "# Compute t (surface to TOA)\n",
    "t = np.exp(-((tauR / 2 + Tau_oz_data_3d) / np.cos(np.radians(SenZ))))"
   ]
  },
  {
   "cell_type": "code",
   "execution_count": 33,
   "metadata": {},
   "outputs": [],
   "source": [
    "# Compute S1\n",
    "S1 = (Lr1 - Lr) / Ed / t\n",
    "\n",
    "# Compute S\n",
    "S = Lr / Ed\n",
    "\n",
    "# Define wl2 array\n",
    "wl2 = np.array([400, 412, 443, 490, 510, 560, 620, 667])"
   ]
  },
  {
   "cell_type": "code",
   "execution_count": 34,
   "metadata": {},
   "outputs": [],
   "source": [
    "# Assuming Rrs, rV, and cV are already defined as arrays\n",
    "RrsL0 = Rrs_data[r, c,:]\n",
    "\n",
    "# Compute RrsL\n",
    "RrsL = Rrs_data[r, c,:] + S1\n"
   ]
  },
  {
   "cell_type": "code",
   "execution_count": 35,
   "metadata": {},
   "outputs": [],
   "source": [
    "X1 = np.abs(Rrs_data[r, c, 43] / Rrs_data[r, c, 86])\n",
    "X2 = np.abs(Rrs_data[r, c, 60] / Rrs_data[r, c, 86])\n",
    "\n",
    "# Calculate the maximum of X1 and X2 element-wise\n",
    "X = np.log10(np.maximum(X1, X2))"
   ]
  },
  {
   "cell_type": "code",
   "execution_count": 36,
   "metadata": {},
   "outputs": [],
   "source": [
    "# Coefficients\n",
    "a0 = 0.2228\n",
    "a1 = -2.4683\n",
    "a2 = 1.5867\n",
    "a3 = -0.4275\n",
    "a4 = -0.7768\n",
    "\n",
    "# Assuming X is already defined as a NumPy array\n",
    "chlV2 = 10 ** (a0 + a1 * X + a2 * X**2 + a3 * X**3 + a4 * X**4)\n"
   ]
  }
 ],
 "metadata": {
  "kernelspec": {
   "display_name": "Python 3",
   "language": "python",
   "name": "python3"
  },
  "language_info": {
   "codemirror_mode": {
    "name": "ipython",
    "version": 3
   },
   "file_extension": ".py",
   "mimetype": "text/x-python",
   "name": "python",
   "nbconvert_exporter": "python",
   "pygments_lexer": "ipython3",
   "version": "3.8.8"
  }
 },
 "nbformat": 4,
 "nbformat_minor": 2
}
